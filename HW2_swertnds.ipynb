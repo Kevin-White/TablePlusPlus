{
  "cells": [
    {
      "cell_type": "markdown",
      "metadata": {
        "id": "view-in-github",
        "colab_type": "text"
      },
      "source": [
        "<a href=\"https://colab.research.google.com/github/Kevin-White/TablePlusPlus/blob/main/HW2_swertnds.ipynb\" target=\"_parent\"><img src=\"https://colab.research.google.com/assets/colab-badge.svg\" alt=\"Open In Colab\"/></a>"
      ]
    },
    {
      "cell_type": "code",
      "execution_count": 121,
      "metadata": {
        "id": "1Rg2uSiFSRJe"
      },
      "outputs": [],
      "source": [
        "import numpy as np\n",
        "import matplotlib.pyplot as plt"
      ]
    },
    {
      "cell_type": "markdown",
      "metadata": {
        "id": "oDTSO7-MSRJj"
      },
      "source": [
        "# Problem 1\n",
        "## Dataset Generation"
      ]
    },
    {
      "cell_type": "markdown",
      "metadata": {
        "id": "Tx7KW28cSRJk"
      },
      "source": [
        "Write a function to **generate a training set** of size $m$\n",
        "- randomly generate a weight vector $w \\in \\mathbb{R}^{10}$, normalize length\n",
        "- generate a training set $\\{(x_i , y_i)\\}$ of size m\n",
        "  - $x_i$: random vector in $\\mathbb{R}^{10}$ from $\\textbf{N}(0, I)$\n",
        "  - $y_i$: $\\{0, +1\\}$ with $P[y = +1] = \\sigma(w \\cdot x_i)$ and $P[y = 0] = 1 - \\sigma(w \\cdot x_i)$"
      ]
    },
    {
      "cell_type": "code",
      "source": [
        "from re import X\n",
        "import time\n",
        "import random\n",
        "from scipy.special import expit\n",
        "\n",
        "#sigmoid function\n",
        "def sigmoid(x):\n",
        "  return 1/ (1 + np.exp(-x))\n",
        "\n",
        "\n",
        "#number training function\n",
        "def wstar_set(m):\n",
        "  wstar = np.random.randn(10)\n",
        "  wstar /= np.linalg.norm(wstar)\n",
        "  return wstar\n",
        "\n",
        "def X_set(m):\n",
        "  X = np.random.randn(m, 10)\n",
        "  return X\n",
        "\n",
        "def Y_set(X, wstar):\n",
        "  p = sigmoid(wstar.dot(X))\n",
        "  if np.random.uniform() :\n",
        "    n = 1\n",
        "  else:\n",
        "    n= 0\n",
        "  Y = np.vecotrize(n)\n",
        "  return Y\n"
      ],
      "metadata": {
        "id": "51DaL_gRBtk9"
      },
      "execution_count": 122,
      "outputs": []
    },
    {
      "cell_type": "markdown",
      "metadata": {
        "id": "wx2-15fASRJy"
      },
      "source": [
        "## Algorithm 1: logistic regression\n",
        "\n",
        "The goal is to learn $w$.  Algorithm 1 is logistic\n",
        "  regression (you may use the built-in method LogisticRegression for this. Use max_iter=1000)."
      ]
    },
    {
      "cell_type": "code",
      "execution_count": 123,
      "metadata": {
        "id": "Vj8b21jgSRJz"
      },
      "outputs": [],
      "source": [
        "from sklearn.linear_model import LogisticRegression\n",
        "\n",
        "def logistic_reg (X,Y):\n",
        "  lr = LogisticRegression(max_iter=1000)\n",
        "  lr.fit(X, Y)\n",
        "  w_lr = lr.coef_[0]\n",
        "  return w_lr\n",
        "\n",
        "\n",
        "\n"
      ]
    },
    {
      "cell_type": "markdown",
      "metadata": {
        "id": "YzmNdy6ZSRJ3"
      },
      "source": [
        "## Algorithm 2: gradient descent with square loss\n",
        "\n",
        "Define square loss as\n",
        "$$L_i(w^{(t)}) = \\frac{1}{2} \\left( \\sigma(w^{(t)} \\cdot x) - y_i \\right)^2$$\n",
        "\n",
        "  Algorithm 2 is\n",
        "  gradient descent with respect to square loss (code this\n",
        "  up yourself -- run for 1000 iterations, use step size eta = 0.01)."
      ]
    },
    {
      "cell_type": "code",
      "source": [
        "def grad_desc (X,Y,w, learning_rate, num_itt):\n",
        "  m = len(X)\n",
        "  for _ in range(num_itt):\n",
        "    p=sigmoid(np.dot(X,w))\n",
        "    grad = np.dot(X.T, (p-Y))/m\n",
        "    w_gd -= learning_rate*grad\n",
        "  return w_gd"
      ],
      "metadata": {
        "id": "5-wPfMNvqkAb"
      },
      "execution_count": 124,
      "outputs": []
    },
    {
      "cell_type": "markdown",
      "metadata": {
        "id": "m1k9RFNdbILG"
      },
      "source": [
        "## Algorithm 3: stochastic gradient descent with square loss\n",
        "Similar to gradient descent, except we use the gradient at a single random training point every iteration."
      ]
    },
    {
      "cell_type": "code",
      "execution_count": 125,
      "metadata": {
        "id": "qI6maEEXbILG"
      },
      "outputs": [],
      "source": [
        "def stoch_grad (X,Y,w , learning_rate, num_itt):\n",
        "  m = len(X)\n",
        "  for _ in range(num_itt):\n",
        "    random_index=random.randint(0, m-1)\n",
        "    xi = X[random_index]\n",
        "    yi = Y[random_index]\n",
        "    p=sigmoid(np.dot(xi,w))\n",
        "    grad = xi * (p-yi)\n",
        "    w_sgd -= learning_rate*grad\n",
        "  return w_sgd\n",
        "\n"
      ]
    },
    {
      "cell_type": "markdown",
      "metadata": {
        "id": "5A-dLi3TSRJ-"
      },
      "source": [
        "## Evaluation\n",
        "\n",
        "Measure error $\\|w - \\hat{w}\\|_2$ for each method at different sample size. For any\n",
        "  fixed value of $m$, choose many different $w$'s and average the\n",
        "  values $\\|w -\n",
        "  \\hat{w}\\|_2$ for Algorithms 1, 2 and 3.  Plot the results\n",
        "  for for each algorithm as you make $m$ large (use $m=50, 100, 150, 200, 250$).\n",
        "  Also record, for each algorithm, the time taken to run the overall experiment."
      ]
    },
    {
      "cell_type": "code",
      "execution_count": 126,
      "metadata": {
        "colab": {
          "base_uri": "https://localhost:8080/",
          "height": 385
        },
        "id": "tH4T8QRabILH",
        "outputId": "072c15e6-e38c-455f-ac02-54c6baf3dcb9"
      },
      "outputs": [
        {
          "output_type": "error",
          "ename": "ValueError",
          "evalue": "shapes (10,) and (50,10) not aligned: 10 (dim 0) != 50 (dim 0)",
          "traceback": [
            "\u001b[0;31m---------------------------------------------------------------------------\u001b[0m",
            "\u001b[0;31mValueError\u001b[0m                                Traceback (most recent call last)",
            "\u001b[0;32m<ipython-input-126-6b4b5064a284>\u001b[0m in \u001b[0;36m<cell line: 17>\u001b[0;34m()\u001b[0m\n\u001b[1;32m     27\u001b[0m     \u001b[0mwstar\u001b[0m\u001b[0;34m=\u001b[0m\u001b[0mwstar_set\u001b[0m\u001b[0;34m(\u001b[0m\u001b[0mm\u001b[0m\u001b[0;34m)\u001b[0m\u001b[0;34m\u001b[0m\u001b[0;34m\u001b[0m\u001b[0m\n\u001b[1;32m     28\u001b[0m     \u001b[0mX\u001b[0m\u001b[0;34m=\u001b[0m\u001b[0mX_set\u001b[0m\u001b[0;34m(\u001b[0m\u001b[0mm\u001b[0m\u001b[0;34m)\u001b[0m\u001b[0;34m\u001b[0m\u001b[0;34m\u001b[0m\u001b[0m\n\u001b[0;32m---> 29\u001b[0;31m     \u001b[0mY\u001b[0m\u001b[0;34m=\u001b[0m\u001b[0mY_set\u001b[0m\u001b[0;34m(\u001b[0m\u001b[0mX\u001b[0m\u001b[0;34m,\u001b[0m \u001b[0mwstar\u001b[0m\u001b[0;34m)\u001b[0m\u001b[0;34m\u001b[0m\u001b[0;34m\u001b[0m\u001b[0m\n\u001b[0m\u001b[1;32m     30\u001b[0m \u001b[0;34m\u001b[0m\u001b[0m\n\u001b[1;32m     31\u001b[0m \u001b[0;34m\u001b[0m\u001b[0m\n",
            "\u001b[0;32m<ipython-input-122-ef31d0b39f10>\u001b[0m in \u001b[0;36mY_set\u001b[0;34m(X, wstar)\u001b[0m\n\u001b[1;32m     20\u001b[0m \u001b[0;34m\u001b[0m\u001b[0m\n\u001b[1;32m     21\u001b[0m \u001b[0;32mdef\u001b[0m \u001b[0mY_set\u001b[0m\u001b[0;34m(\u001b[0m\u001b[0mX\u001b[0m\u001b[0;34m,\u001b[0m \u001b[0mwstar\u001b[0m\u001b[0;34m)\u001b[0m\u001b[0;34m:\u001b[0m\u001b[0;34m\u001b[0m\u001b[0;34m\u001b[0m\u001b[0m\n\u001b[0;32m---> 22\u001b[0;31m   \u001b[0mp\u001b[0m \u001b[0;34m=\u001b[0m \u001b[0msigmoid\u001b[0m\u001b[0;34m(\u001b[0m\u001b[0mwstar\u001b[0m\u001b[0;34m.\u001b[0m\u001b[0mdot\u001b[0m\u001b[0;34m(\u001b[0m\u001b[0mX\u001b[0m\u001b[0;34m)\u001b[0m\u001b[0;34m)\u001b[0m\u001b[0;34m\u001b[0m\u001b[0;34m\u001b[0m\u001b[0m\n\u001b[0m\u001b[1;32m     23\u001b[0m   \u001b[0;32mif\u001b[0m \u001b[0mnp\u001b[0m\u001b[0;34m.\u001b[0m\u001b[0mrandom\u001b[0m\u001b[0;34m.\u001b[0m\u001b[0muniform\u001b[0m\u001b[0;34m(\u001b[0m\u001b[0;34m)\u001b[0m \u001b[0;34m:\u001b[0m\u001b[0;34m\u001b[0m\u001b[0;34m\u001b[0m\u001b[0m\n\u001b[1;32m     24\u001b[0m     \u001b[0mn\u001b[0m \u001b[0;34m=\u001b[0m \u001b[0;36m1\u001b[0m\u001b[0;34m\u001b[0m\u001b[0;34m\u001b[0m\u001b[0m\n",
            "\u001b[0;31mValueError\u001b[0m: shapes (10,) and (50,10) not aligned: 10 (dim 0) != 50 (dim 0)"
          ]
        }
      ],
      "source": [
        "#create lists to store avg and execution times to plot\n",
        "avg_d_lr = []\n",
        "avg_d_gd = []\n",
        "avg_d_sgd = []\n",
        "extime_lr = []\n",
        "extime_gd = []\n",
        "extime_sgd = []\n",
        "\n",
        "\n",
        "\n",
        "\n",
        "#Parameters\n",
        "mval = [50,100,150,200,250]\n",
        "numexp = 10\n",
        "\n",
        "#Create lists to store distances and times of results of tests\n",
        "for m in mval:\n",
        "  dist_lr = []\n",
        "  dist_gd = []\n",
        "  dist_sgd = []\n",
        "  time_lr = []\n",
        "  time_gd = []\n",
        "  time_sgd = []\n",
        "\n",
        "  #Calculations\n",
        "  for _ in range(numexp):\n",
        "    wstar=wstar_set(m)\n",
        "    X=X_set(m)\n",
        "    Y=Y_set(X, wstar)   #ran out of time to debug this line\n",
        "\n",
        "\n",
        "    # Logistic Regression calc\n",
        "    lr_start_time = time.time()\n",
        "    w_lr = logistic_reg (X,Y)\n",
        "    time_lr = time.time()-lr_start_time\n",
        "    dist_lr = np.linalg.norm(wstar-w_lr)\n",
        "\n",
        "\n",
        "    # Gradient Decent\n",
        "    gd_start_time = time.time()\n",
        "    w_gd = grad_desc (X,Y,np.zeros(10), learning_rate = 0.1, num_itt = 1000)\n",
        "    time_gd = time.time()-gd_start_time\n",
        "    dist_gd = np.linalg.norm(wstar-w_gd)\n",
        "\n",
        "\n",
        "    # Stochastic Gradient Decent\n",
        "    sgd_start_time = time.time()\n",
        "    w_sgd = stoch_grad (X,Y,np.zeros(10) , learning_rate = 0.1, num_itt = 1000)\n",
        "    time_sgd = time.time()-sgd_start_time\n",
        "    dist_sgd = np.linalg.norm(wstar-w_gd)\n",
        "\n",
        "\n",
        "    #append lists\n",
        "    dist_lr.append(dist_lr)\n",
        "    dist_gd.append(dist_gd)\n",
        "    dist_sgd.append(dist_sgd)\n",
        "    time_lr.append(time_lr)\n",
        "    time_gd.append(time_gd)\n",
        "    time_sgd.append(time_sgd)\n",
        "\n",
        "  #Calculate avg distances and exe times\n",
        "  avg_d_lr.append(np.mean(dist_lr))\n",
        "  avg_d_gp.append(np.mean(dist_gd))\n",
        "  avg_d_sgd.append(np.mean(dist_sgd))\n",
        "  extime_lr.append(np.mean(time_lr))\n",
        "  extime_gd.append(np.mean(time_gd))\n",
        "  extime_sgd.append(np.mean(time_sgd))\n",
        "\n",
        "\n",
        "# Print and analyze results\n",
        "for i, m in enumerate(mval):\n",
        "    print(f\"Results for m = {m}:\")\n",
        "    print(f\"Average Distance (Logistic Regression): {avg_d_lr[i]:.4f}\")\n",
        "    print(f\"Average Distance (Gradient Descent): {avg_d_gd[i]:.4f}\")\n",
        "    print(f\"Average Distance (Stochastic Gradient Descent): {avg_d_sgd[i]:.4f}\")\n",
        "    print(f\"Average Execution Time (Logistic Regression): {extime_lr[i]:.4f} seconds\")\n",
        "    print(f\"Average Execution Time (Gradient Descent): {extime_gd[i]:.4f} seconds\")\n",
        "    print(f\"Average Execution Time (Stochastic Gradient Descent): {extime_sgd[i]:.4f} seconds\")\n",
        "    print(\"-\" * 50)\n",
        "\n",
        "\n",
        "\n",
        "# Plot the average distances\n",
        "plt.figure(figsize=(10, 6))\n",
        "plt.plot(mval, avg_d_lr, label='Logistic Regression', marker='o')\n",
        "plt.plot(mval, avg_d_gd, label='Gradient Descent', marker='s')\n",
        "plt.plot(mval, avg_d_sgd, label='Stochastic Gradient Descent', marker='^')\n",
        "\n",
        "plt.xlabel('Training Set Size (m)')\n",
        "plt.ylabel('Average Euclidean Distance')\n",
        "plt.title('Comparison of Algorithms: Average Euclidean Distance vs. Training Set Size')\n",
        "plt.legend()\n",
        "plt.grid(True)\n",
        "plt.show()\n",
        "\n",
        "\n",
        "\n"
      ]
    },
    {
      "cell_type": "markdown",
      "metadata": {
        "id": "xvRlXQ0gbILH"
      },
      "source": [
        "# Problem 2"
      ]
    },
    {
      "cell_type": "code",
      "execution_count": null,
      "metadata": {
        "id": "aQfwLJ2ZbILH"
      },
      "outputs": [],
      "source": [
        "from sklearn import datasets"
      ]
    },
    {
      "cell_type": "code",
      "execution_count": null,
      "metadata": {
        "id": "X8FdKt21bILH"
      },
      "outputs": [],
      "source": [
        "cancer = datasets.load_breast_cancer()"
      ]
    },
    {
      "cell_type": "markdown",
      "metadata": {
        "id": "vY-k3zNYbILH"
      },
      "source": [
        "For each depth in $1, \\dots, 5$, instantiate an AdaBoost classifier with the base learner set to be a decision tree of that depth (set `n_estimators=10` and `learning_rate=1`), and then record the 10-fold cross-validated error on the entire breast cancer data set. Plot the resulting curve of accuracy against base classifier depth. Use $101$ as your random state for both the base learner as well as the AdaBoost classifier every time."
      ]
    },
    {
      "cell_type": "code",
      "source": [
        "import matplotlib.pyplot as plt\n",
        "import numpy as np\n",
        "from sklearn.ensemble import AdaBoostClassifier\n",
        "from sklearn.tree import DecisionTreeClassifier\n",
        "from sklearn.model_selection import cross_val_score\n",
        "\n",
        "x = cancer.data\n",
        "y = cancer.target\n",
        "\n",
        "depths = [1,2,3,4,5]\n",
        "errors = []\n",
        "\n",
        "for depth in depths:\n",
        "    clf = AdaBoostClassifier(DecisionTreeClassifier(max_depth=depth, random_state=101),\n",
        "                             n_estimators=10, learning_rate=1, random_state=101)\n",
        "    scores = cross_val_score(clf, cancer.data, cancer.target, cv=10)\n",
        "    errors.append(1 - np.mean(scores))\n",
        "\n",
        "plt.plot(depths, errors, marker='o')\n",
        "plt.xlabel('Base Classifier Depth')\n",
        "plt.ylabel('Accuracy')\n",
        "plt.title ('Accuracy vs. Base Classifier Depth for ADABoost')\n",
        "plt.show()"
      ],
      "metadata": {
        "id": "e0kPkbRwMCMG"
      },
      "execution_count": null,
      "outputs": []
    }
  ],
  "metadata": {
    "colab": {
      "provenance": [],
      "include_colab_link": true
    },
    "kernelspec": {
      "display_name": "Python 3",
      "language": "python",
      "name": "python3"
    },
    "language_info": {
      "codemirror_mode": {
        "name": "ipython",
        "version": 3
      },
      "file_extension": ".py",
      "mimetype": "text/x-python",
      "name": "python",
      "nbconvert_exporter": "python",
      "pygments_lexer": "ipython3",
      "version": "3.8.5"
    }
  },
  "nbformat": 4,
  "nbformat_minor": 0
}