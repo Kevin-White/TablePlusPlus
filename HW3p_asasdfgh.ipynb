{
  "cells": [
    {
      "cell_type": "markdown",
      "metadata": {
        "id": "view-in-github",
        "colab_type": "text"
      },
      "source": [
        "<a href=\"https://colab.research.google.com/github/Kevin-White/TablePlusPlus/blob/main/HW3p_asasdfgh.ipynb\" target=\"_parent\"><img src=\"https://colab.research.google.com/assets/colab-badge.svg\" alt=\"Open In Colab\"/></a>"
      ]
    },
    {
      "cell_type": "code",
      "execution_count": 14,
      "metadata": {
        "id": "5ThITQNAVqoK"
      },
      "outputs": [],
      "source": [
        "import matplotlib.pyplot as plt\n",
        "import numpy as np\n",
        "from numpy.linalg import svd\n",
        "from sklearn import datasets\n",
        "from sklearn.decomposition import TruncatedSVD\n",
        "from sklearn.metrics import mean_absolute_error"
      ]
    },
    {
      "cell_type": "markdown",
      "metadata": {
        "id": "QiI5OEB-WiHh"
      },
      "source": [
        "# Problem 1"
      ]
    },
    {
      "cell_type": "markdown",
      "metadata": {
        "id": "50hEkXWhnibG"
      },
      "source": [
        "In this problem we will look at image compression using SVD, following the lines of the well-known \"Eigenfaces\" experiment. The basic concept is to represent an image (in grayscale) of size $m \\times n$ as an $m \\times n$ real matrix $M$. SVD is then applied to this matrix to obtain $U$, $S$, and $V$ such that $M = U S V^T$. Here $U$ and $V$ are the matrices whose columns are the left and right singular vectors respectively, and $S$ is a diagonal $m \\times n$ matrix consisting of the singular values of $M$. The number of non-zero singular values is the rank of $M$. By using just the largest $k$ singular values (and corresponding left and right singular vectors), one obtains the best rank-$k$ approximation to $M$."
      ]
    },
    {
      "cell_type": "markdown",
      "metadata": {
        "id": "2VaA1zRbngUL"
      },
      "source": [
        "The following code returns the dataset of 400 images."
      ]
    },
    {
      "cell_type": "code",
      "execution_count": 15,
      "metadata": {
        "id": "i-gvo5FRng2s"
      },
      "outputs": [],
      "source": [
        "data = datasets.fetch_olivetti_faces()\n",
        "images = data.images\n",
        "nsamp, h, w = images.shape"
      ]
    },
    {
      "cell_type": "markdown",
      "metadata": {
        "id": "hXlDavTJWiHj"
      },
      "source": [
        "(a) Given an $m \\times n$ image $M$ and its rank-$k$ approximation $A$, we can measure the reconstruction error using mean $\\ell_1$ error: $$ \\text{error}_{\\ell_1}(M, A) = \\frac{1}{mn}\\| M - A \\|_1 = \\frac{1}{mn}\\sum_{i=1}^{m}\\sum_{j=1}^{n}| M_{i,j} - A_{i,j} |. $$ For $k = 1, \\dots, 30$, take the average rank-$k$ reconstruction error over all images in the dataset, and plot a curve of average reconstruction error as a function of $k$."
      ]
    },
    {
      "cell_type": "code",
      "execution_count": 16,
      "metadata": {
        "id": "6cPwx_gWVqoO"
      },
      "outputs": [],
      "source": [
        "# Returns the best rank-k approximation to M\n",
        "#def svd_reconstruct(M, k):\n",
        "    # TODO: Complete this!\n",
        "    # Advice: pass in full_matrices=False to svd to avoid dimensionality issues...\n",
        "    #"
      ]
    },
    {
      "cell_type": "code",
      "execution_count": 17,
      "metadata": {
        "colab": {
          "base_uri": "https://localhost:8080/",
          "height": 222
        },
        "id": "zfvDBi7eWiHj",
        "outputId": "be8e4a9c-1ca0-48e7-aaef-c9e14ec41e54"
      },
      "outputs": [
        {
          "output_type": "error",
          "ename": "TypeError",
          "evalue": "TruncatedSVD.__init__() got an unexpected keyword argument 'n'",
          "traceback": [
            "\u001b[0;31m---------------------------------------------------------------------------\u001b[0m",
            "\u001b[0;31mTypeError\u001b[0m                                 Traceback (most recent call last)",
            "\u001b[0;32m<ipython-input-17-edb17f1bb05a>\u001b[0m in \u001b[0;36m<cell line: 7>\u001b[0;34m()\u001b[0m\n\u001b[1;32m      6\u001b[0m \u001b[0;34m\u001b[0m\u001b[0m\n\u001b[1;32m      7\u001b[0m \u001b[0;32mfor\u001b[0m \u001b[0mk\u001b[0m \u001b[0;32min\u001b[0m \u001b[0mrange\u001b[0m\u001b[0;34m(\u001b[0m\u001b[0;36m1\u001b[0m\u001b[0;34m,\u001b[0m\u001b[0;36m31\u001b[0m\u001b[0;34m)\u001b[0m\u001b[0;34m:\u001b[0m\u001b[0;34m\u001b[0m\u001b[0;34m\u001b[0m\u001b[0m\n\u001b[0;32m----> 8\u001b[0;31m   \u001b[0msvd\u001b[0m\u001b[0;34m=\u001b[0m\u001b[0mTruncatedSVD\u001b[0m\u001b[0;34m(\u001b[0m\u001b[0mn\u001b[0m\u001b[0;34m=\u001b[0m\u001b[0mk\u001b[0m\u001b[0;34m,\u001b[0m \u001b[0mrandom_state\u001b[0m\u001b[0;34m=\u001b[0m\u001b[0;36m42\u001b[0m\u001b[0;34m)\u001b[0m\u001b[0;34m\u001b[0m\u001b[0;34m\u001b[0m\u001b[0m\n\u001b[0m\u001b[1;32m      9\u001b[0m   \u001b[0mX_reduc\u001b[0m \u001b[0;34m=\u001b[0m \u001b[0msvd\u001b[0m\u001b[0;34m.\u001b[0m\u001b[0mfit_transform\u001b[0m\u001b[0;34m(\u001b[0m\u001b[0mX\u001b[0m\u001b[0;34m)\u001b[0m\u001b[0;34m\u001b[0m\u001b[0;34m\u001b[0m\u001b[0m\n\u001b[1;32m     10\u001b[0m   \u001b[0mX_approx\u001b[0m \u001b[0;34m=\u001b[0m \u001b[0msvd\u001b[0m\u001b[0;34m.\u001b[0m\u001b[0minverse_transform\u001b[0m\u001b[0;34m(\u001b[0m\u001b[0mX_reduc\u001b[0m\u001b[0;34m)\u001b[0m\u001b[0;34m\u001b[0m\u001b[0;34m\u001b[0m\u001b[0m\n",
            "\u001b[0;31mTypeError\u001b[0m: TruncatedSVD.__init__() got an unexpected keyword argument 'n'"
          ]
        }
      ],
      "source": [
        "# shape images in to matrix\n",
        "X = images.reshape(n,-1)\n",
        "\n",
        "avg_error = []\n",
        "\n",
        "\n",
        "for k in range(1,31):\n",
        "  svd=TruncatedSVD(n=k, random_state=42)\n",
        "  X_reduc = svd.fit_transform(X)\n",
        "  X_approx = svd.inverse_transform(X_reduc)\n",
        "\n",
        "  recon_error = [mean_absolute_error (X[i], X_approx[i]) for i in range(n)]\n",
        "  avg_error = np.mean(recon_error)\n",
        "  avg_error.append(avg_error)\n",
        "\n",
        "\n",
        "  plt.plot(range(1,31), avg_error)\n",
        "  plt.xlabel ('Singular values (k)')\n",
        "  plt.ylabel('Avg Reconstruction Error')\n",
        "  plt.title('Avg Reconstruction Error vs k')\n",
        "  plt.show()\n",
        "\n",
        "\n",
        ""
      ]
    },
    {
      "cell_type": "markdown",
      "metadata": {
        "id": "CB0ewAx_ppKt"
      },
      "source": [
        "(b) Pick any image in the dataset, and display the following side-by-side as images: the original, and the best rank-$k$ approximations for $k = 10, 20, 30, 40$. You will find the `imshow` method in matplotlib useful for this; pass in `cmap='gray'` to render in grayscale. Feel free to play around further."
      ]
    },
    {
      "cell_type": "code",
      "execution_count": null,
      "metadata": {
        "id": "6Eri7zz2WiHj"
      },
      "outputs": [],
      "source": []
    },
    {
      "cell_type": "markdown",
      "metadata": {
        "id": "7SvznSRXWiHj"
      },
      "source": [
        "# Problem 2"
      ]
    },
    {
      "cell_type": "markdown",
      "metadata": {
        "id": "0lbRljjrWiHj"
      },
      "source": [
        "In this problem we visualize the Wisconsin breast cancer dataset in two dimensions using PCA. First, rescale the data so that every feature has mean 0 and standard deviation 1 across the various points in the dataset. You may find `sklearn.preprocessing.StandardScaler` useful for this. Next, compute the top two principal components of the dataset using PCA, and for every data point, compute its coordinates (i.e. projections) along these two principal components. You should do this in two ways:\n",
        "1. By using SVD directly. Do not use any PCA built-ins.\n",
        "2. By using `sklearn.decomposition.PCA`.\n",
        "\n",
        "The two approaches should give exactly the same result, and this also acts as a check. (But note that the signs of the singular vectors may be flipped in the two approaches since singular vectors are only determined uniquely up to sign. If this happens, flip signs to make everything identical again.)\n",
        "\n",
        "Your final goal is to make a scatterplot of the dataset in 2 dimensions, where the x-axis is the first principal component and the y-axis is the second. Color the points by their diagnosis (malignant or benign). Do this for both approaches. Your plots should be identical. Does the data look roughly separable already in 2 dimensions?"
      ]
    },
    {
      "cell_type": "code",
      "execution_count": null,
      "metadata": {
        "id": "CKyqs24lWiHk"
      },
      "outputs": [],
      "source": [
        "cancer = datasets.load_breast_cancer()"
      ]
    },
    {
      "cell_type": "code",
      "execution_count": null,
      "metadata": {
        "id": "ZvbZ6kCPWiHk"
      },
      "outputs": [],
      "source": []
    }
  ],
  "metadata": {
    "colab": {
      "provenance": [],
      "include_colab_link": true
    },
    "kernelspec": {
      "display_name": "Python 3 (ipykernel)",
      "language": "python",
      "name": "python3"
    },
    "language_info": {
      "codemirror_mode": {
        "name": "ipython",
        "version": 3
      },
      "file_extension": ".py",
      "mimetype": "text/x-python",
      "name": "python",
      "nbconvert_exporter": "python",
      "pygments_lexer": "ipython3",
      "version": "3.9.7"
    }
  },
  "nbformat": 4,
  "nbformat_minor": 0
}